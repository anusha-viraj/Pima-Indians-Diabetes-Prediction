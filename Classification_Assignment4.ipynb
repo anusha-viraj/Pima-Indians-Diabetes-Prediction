{
 "cells": [
  {
   "cell_type": "markdown",
   "metadata": {
    "colab_type": "text",
    "id": "1h2i0CEGQiGh"
   },
   "source": [
    "# USE-CASE\n",
    "\n",
    "\n",
    "Pima Indians Diabetes Dataset is a binary (2-class) classification problem. The number of observations for each class is not balanced. There are 768 observations with 8 input variables and 1 output variable. Missing values are believed to be encoded with zero values. The variable names are as follows:\n",
    "\n",
    "```\n",
    "Number of times pregnant.\n",
    "Plasma glucose concentration a 2 hours in an oral glucose tolerance test.\n",
    "Diastolic blood pressure (mm Hg).\n",
    "Triceps skinfold thickness (mm).\n",
    "2-Hour serum insulin (mu U/ml).\n",
    "Body mass index (weight in kg/(height in m)^2).\n",
    "Diabetes pedigree function.\n",
    "Age (years).\n",
    "Class variable (0 or 1).\n",
    "```\n",
    "\n",
    "\n"
   ]
  },
  {
   "cell_type": "markdown",
   "metadata": {
    "colab_type": "text",
    "id": "sGUc8bIEQ4hI"
   },
   "source": [
    "## **IMPORT LIBRARIES**"
   ]
  },
  {
   "cell_type": "code",
   "execution_count": 0,
   "metadata": {
    "colab": {
     "base_uri": "https://localhost:8080/"
    },
    "colab_type": "code",
    "id": "Cd1L6y8JQeJf",
    "outputId": "2c3b67bb-465d-4094-93c7-15235b4084df"
   },
   "outputs": [
    {
     "name": "stderr",
     "output_type": "stream",
     "text": [
      "/usr/local/lib/python3.6/dist-packages/statsmodels/tools/_testing.py:19: FutureWarning: pandas.util.testing is deprecated. Use the functions in the public API at pandas.testing instead.\n",
      "  import pandas.util.testing as tm\n"
     ]
    }
   ],
   "source": [
    "import numpy as np\n",
    "import pandas as pd\n",
    "import seaborn as sns\n",
    "import matplotlib.pyplot as plt\n",
    "from sklearn.impute import SimpleImputer\n",
    "from sklearn.preprocessing import OneHotEncoder\n",
    "from sklearn.model_selection import train_test_split\n",
    "from sklearn import metrics\n",
    "from sklearn.linear_model import LogisticRegression\n",
    "%matplotlib inline\n",
    "\n",
    "import warnings\n",
    "warnings.filterwarnings(\"ignore\")"
   ]
  },
  {
   "cell_type": "markdown",
   "metadata": {
    "colab_type": "text",
    "id": "TRm6EBUDSok-"
   },
   "source": [
    "## **IMPORT DATA AND GET INFORMATION**"
   ]
  },
  {
   "cell_type": "code",
   "execution_count": 0,
   "metadata": {
    "colab": {
     "base_uri": "https://localhost:8080/"
    },
    "colab_type": "code",
    "id": "E6V2u4IKRp0-",
    "outputId": "01d7fbb8-86ba-437f-d5c9-0db425c2a589"
   },
   "outputs": [
    {
     "data": {
      "text/html": [
       "<div>\n",
       "<style scoped>\n",
       "    .dataframe tbody tr th:only-of-type {\n",
       "        vertical-align: middle;\n",
       "    }\n",
       "\n",
       "    .dataframe tbody tr th {\n",
       "        vertical-align: top;\n",
       "    }\n",
       "\n",
       "    .dataframe thead th {\n",
       "        text-align: right;\n",
       "    }\n",
       "</style>\n",
       "<table border=\"1\" class=\"dataframe\">\n",
       "  <thead>\n",
       "    <tr style=\"text-align: right;\">\n",
       "      <th></th>\n",
       "      <th>Pregnancies</th>\n",
       "      <th>Glucose</th>\n",
       "      <th>BP</th>\n",
       "      <th>SkinThickness</th>\n",
       "      <th>Insulin</th>\n",
       "      <th>BMI</th>\n",
       "      <th>Pedigree</th>\n",
       "      <th>Age</th>\n",
       "      <th>Diabetic</th>\n",
       "    </tr>\n",
       "  </thead>\n",
       "  <tbody>\n",
       "    <tr>\n",
       "      <th>0</th>\n",
       "      <td>6</td>\n",
       "      <td>148</td>\n",
       "      <td>72</td>\n",
       "      <td>35</td>\n",
       "      <td>0</td>\n",
       "      <td>33.6</td>\n",
       "      <td>0.627</td>\n",
       "      <td>50</td>\n",
       "      <td>1</td>\n",
       "    </tr>\n",
       "    <tr>\n",
       "      <th>1</th>\n",
       "      <td>1</td>\n",
       "      <td>85</td>\n",
       "      <td>66</td>\n",
       "      <td>29</td>\n",
       "      <td>0</td>\n",
       "      <td>26.6</td>\n",
       "      <td>0.351</td>\n",
       "      <td>31</td>\n",
       "      <td>0</td>\n",
       "    </tr>\n",
       "    <tr>\n",
       "      <th>2</th>\n",
       "      <td>8</td>\n",
       "      <td>183</td>\n",
       "      <td>64</td>\n",
       "      <td>0</td>\n",
       "      <td>0</td>\n",
       "      <td>23.3</td>\n",
       "      <td>0.672</td>\n",
       "      <td>32</td>\n",
       "      <td>1</td>\n",
       "    </tr>\n",
       "    <tr>\n",
       "      <th>3</th>\n",
       "      <td>1</td>\n",
       "      <td>89</td>\n",
       "      <td>66</td>\n",
       "      <td>23</td>\n",
       "      <td>94</td>\n",
       "      <td>28.1</td>\n",
       "      <td>0.167</td>\n",
       "      <td>21</td>\n",
       "      <td>0</td>\n",
       "    </tr>\n",
       "    <tr>\n",
       "      <th>4</th>\n",
       "      <td>0</td>\n",
       "      <td>137</td>\n",
       "      <td>40</td>\n",
       "      <td>35</td>\n",
       "      <td>168</td>\n",
       "      <td>43.1</td>\n",
       "      <td>2.288</td>\n",
       "      <td>33</td>\n",
       "      <td>1</td>\n",
       "    </tr>\n",
       "  </tbody>\n",
       "</table>\n",
       "</div>"
      ],
      "text/plain": [
       "   Pregnancies  Glucose  BP  SkinThickness  ...   BMI  Pedigree  Age  Diabetic\n",
       "0            6      148  72             35  ...  33.6     0.627   50         1\n",
       "1            1       85  66             29  ...  26.6     0.351   31         0\n",
       "2            8      183  64              0  ...  23.3     0.672   32         1\n",
       "3            1       89  66             23  ...  28.1     0.167   21         0\n",
       "4            0      137  40             35  ...  43.1     2.288   33         1\n",
       "\n",
       "[5 rows x 9 columns]"
      ]
     },
     "execution_count": 2,
     "metadata": {
      "tags": []
     },
     "output_type": "execute_result"
    }
   ],
   "source": [
    "data = pd.read_csv('pima-indians-diabetes.csv', names=['Pregnancies','Glucose','BP','SkinThickness',\n",
    "                  'Insulin','BMI','Pedigree','Age','Diabetic'])\n",
    "data.head()"
   ]
  },
  {
   "cell_type": "code",
   "execution_count": 0,
   "metadata": {
    "colab": {
     "base_uri": "https://localhost:8080/"
    },
    "colab_type": "code",
    "id": "wl9POPgXS_dJ",
    "outputId": "9b717f69-67cc-4073-d0aa-4a08b21147e7"
   },
   "outputs": [
    {
     "data": {
      "text/plain": [
       "(768, 9)"
      ]
     },
     "execution_count": 3,
     "metadata": {
      "tags": []
     },
     "output_type": "execute_result"
    }
   ],
   "source": [
    "data.shape"
   ]
  },
  {
   "cell_type": "code",
   "execution_count": 0,
   "metadata": {
    "colab": {
     "base_uri": "https://localhost:8080/"
    },
    "colab_type": "code",
    "id": "zWfkVXISU3SW",
    "outputId": "623eb606-4d2c-4212-af18-6dc6f39234a9"
   },
   "outputs": [
    {
     "data": {
      "text/html": [
       "<div>\n",
       "<style scoped>\n",
       "    .dataframe tbody tr th:only-of-type {\n",
       "        vertical-align: middle;\n",
       "    }\n",
       "\n",
       "    .dataframe tbody tr th {\n",
       "        vertical-align: top;\n",
       "    }\n",
       "\n",
       "    .dataframe thead th {\n",
       "        text-align: right;\n",
       "    }\n",
       "</style>\n",
       "<table border=\"1\" class=\"dataframe\">\n",
       "  <thead>\n",
       "    <tr style=\"text-align: right;\">\n",
       "      <th></th>\n",
       "      <th>Pregnancies</th>\n",
       "      <th>Glucose</th>\n",
       "      <th>BP</th>\n",
       "      <th>SkinThickness</th>\n",
       "      <th>Insulin</th>\n",
       "      <th>BMI</th>\n",
       "      <th>Pedigree</th>\n",
       "      <th>Age</th>\n",
       "      <th>Diabetic</th>\n",
       "    </tr>\n",
       "  </thead>\n",
       "  <tbody>\n",
       "    <tr>\n",
       "      <th>count</th>\n",
       "      <td>768.000000</td>\n",
       "      <td>768.000000</td>\n",
       "      <td>768.000000</td>\n",
       "      <td>768.000000</td>\n",
       "      <td>768.000000</td>\n",
       "      <td>768.000000</td>\n",
       "      <td>768.000000</td>\n",
       "      <td>768.000000</td>\n",
       "      <td>768.000000</td>\n",
       "    </tr>\n",
       "    <tr>\n",
       "      <th>mean</th>\n",
       "      <td>3.845052</td>\n",
       "      <td>120.894531</td>\n",
       "      <td>69.105469</td>\n",
       "      <td>20.536458</td>\n",
       "      <td>79.799479</td>\n",
       "      <td>31.992578</td>\n",
       "      <td>0.471876</td>\n",
       "      <td>33.240885</td>\n",
       "      <td>0.348958</td>\n",
       "    </tr>\n",
       "    <tr>\n",
       "      <th>std</th>\n",
       "      <td>3.369578</td>\n",
       "      <td>31.972618</td>\n",
       "      <td>19.355807</td>\n",
       "      <td>15.952218</td>\n",
       "      <td>115.244002</td>\n",
       "      <td>7.884160</td>\n",
       "      <td>0.331329</td>\n",
       "      <td>11.760232</td>\n",
       "      <td>0.476951</td>\n",
       "    </tr>\n",
       "    <tr>\n",
       "      <th>min</th>\n",
       "      <td>0.000000</td>\n",
       "      <td>0.000000</td>\n",
       "      <td>0.000000</td>\n",
       "      <td>0.000000</td>\n",
       "      <td>0.000000</td>\n",
       "      <td>0.000000</td>\n",
       "      <td>0.078000</td>\n",
       "      <td>21.000000</td>\n",
       "      <td>0.000000</td>\n",
       "    </tr>\n",
       "    <tr>\n",
       "      <th>25%</th>\n",
       "      <td>1.000000</td>\n",
       "      <td>99.000000</td>\n",
       "      <td>62.000000</td>\n",
       "      <td>0.000000</td>\n",
       "      <td>0.000000</td>\n",
       "      <td>27.300000</td>\n",
       "      <td>0.243750</td>\n",
       "      <td>24.000000</td>\n",
       "      <td>0.000000</td>\n",
       "    </tr>\n",
       "    <tr>\n",
       "      <th>50%</th>\n",
       "      <td>3.000000</td>\n",
       "      <td>117.000000</td>\n",
       "      <td>72.000000</td>\n",
       "      <td>23.000000</td>\n",
       "      <td>30.500000</td>\n",
       "      <td>32.000000</td>\n",
       "      <td>0.372500</td>\n",
       "      <td>29.000000</td>\n",
       "      <td>0.000000</td>\n",
       "    </tr>\n",
       "    <tr>\n",
       "      <th>75%</th>\n",
       "      <td>6.000000</td>\n",
       "      <td>140.250000</td>\n",
       "      <td>80.000000</td>\n",
       "      <td>32.000000</td>\n",
       "      <td>127.250000</td>\n",
       "      <td>36.600000</td>\n",
       "      <td>0.626250</td>\n",
       "      <td>41.000000</td>\n",
       "      <td>1.000000</td>\n",
       "    </tr>\n",
       "    <tr>\n",
       "      <th>max</th>\n",
       "      <td>17.000000</td>\n",
       "      <td>199.000000</td>\n",
       "      <td>122.000000</td>\n",
       "      <td>99.000000</td>\n",
       "      <td>846.000000</td>\n",
       "      <td>67.100000</td>\n",
       "      <td>2.420000</td>\n",
       "      <td>81.000000</td>\n",
       "      <td>1.000000</td>\n",
       "    </tr>\n",
       "  </tbody>\n",
       "</table>\n",
       "</div>"
      ],
      "text/plain": [
       "       Pregnancies     Glucose          BP  ...    Pedigree         Age    Diabetic\n",
       "count   768.000000  768.000000  768.000000  ...  768.000000  768.000000  768.000000\n",
       "mean      3.845052  120.894531   69.105469  ...    0.471876   33.240885    0.348958\n",
       "std       3.369578   31.972618   19.355807  ...    0.331329   11.760232    0.476951\n",
       "min       0.000000    0.000000    0.000000  ...    0.078000   21.000000    0.000000\n",
       "25%       1.000000   99.000000   62.000000  ...    0.243750   24.000000    0.000000\n",
       "50%       3.000000  117.000000   72.000000  ...    0.372500   29.000000    0.000000\n",
       "75%       6.000000  140.250000   80.000000  ...    0.626250   41.000000    1.000000\n",
       "max      17.000000  199.000000  122.000000  ...    2.420000   81.000000    1.000000\n",
       "\n",
       "[8 rows x 9 columns]"
      ]
     },
     "execution_count": 4,
     "metadata": {
      "tags": []
     },
     "output_type": "execute_result"
    }
   ],
   "source": [
    "data.describe()"
   ]
  },
  {
   "cell_type": "code",
   "execution_count": 0,
   "metadata": {
    "colab": {
     "base_uri": "https://localhost:8080/"
    },
    "colab_type": "code",
    "id": "MYtcJiJrU6N3",
    "outputId": "da95c5fd-68f1-470c-8845-b1023f9d417e"
   },
   "outputs": [
    {
     "name": "stdout",
     "output_type": "stream",
     "text": [
      "<class 'pandas.core.frame.DataFrame'>\n",
      "RangeIndex: 768 entries, 0 to 767\n",
      "Data columns (total 9 columns):\n",
      " #   Column         Non-Null Count  Dtype  \n",
      "---  ------         --------------  -----  \n",
      " 0   Pregnancies    768 non-null    int64  \n",
      " 1   Glucose        768 non-null    int64  \n",
      " 2   BP             768 non-null    int64  \n",
      " 3   SkinThickness  768 non-null    int64  \n",
      " 4   Insulin        768 non-null    int64  \n",
      " 5   BMI            768 non-null    float64\n",
      " 6   Pedigree       768 non-null    float64\n",
      " 7   Age            768 non-null    int64  \n",
      " 8   Diabetic       768 non-null    int64  \n",
      "dtypes: float64(2), int64(7)\n",
      "memory usage: 54.1 KB\n"
     ]
    }
   ],
   "source": [
    "data.info()"
   ]
  },
  {
   "cell_type": "markdown",
   "metadata": {
    "colab_type": "text",
    "id": "y8gXeUB5X6pP"
   },
   "source": [
    "Identifying the type of the data\n",
    "\n",
    "```\n",
    " 0   Pregnancies    768 non-null    int64    ---> Numeric (Discrete)\n",
    " 1   Glucose        768 non-null    int64    ---> Numeric (Continuous)\n",
    " 2   BP             768 non-null    int64    ---> Numeric (Continuous)\n",
    " 3   SkinThickness  768 non-null    int64    ---> Numeric (Continuous)\n",
    " 4   Insulin        768 non-null    int64    ---> Numeric (Continuous)\n",
    " 5   BMI            768 non-null    float64  ---> Numeric (Continuous)\n",
    " 6   Pedigree       768 non-null    float64  ---> Numeric (Continuous)\n",
    " 7   Age            768 non-null    int64    ---> Numeric (Continuous)\n",
    " 8   Diabetic       768 non-null    int64  \n",
    "```\n",
    "\n"
   ]
  },
  {
   "cell_type": "markdown",
   "metadata": {
    "colab_type": "text",
    "id": "w4rq0l_sX23b"
   },
   "source": [
    "## **DATA VISUALIZATION**"
   ]
  },
  {
   "cell_type": "code",
   "execution_count": 0,
   "metadata": {
    "colab": {
     "base_uri": "https://localhost:8080/",
     "height": 499
    },
    "colab_type": "code",
    "id": "ib5UmfBXU77P",
    "outputId": "8f21d789-1c11-4f0c-a7fb-20b8f973aa4c"
   },
   "outputs": [
    {
     "data": {
      "image/png": "[encoded data removed]",
      "text/plain": [
       "<Figure size 1080x576 with 8 Axes>"
      ]
     },
     "metadata": {
      "needs_background": "light",
      "tags": []
     },
     "output_type": "display_data"
    }
   ],
   "source": [
    "features = ['Pregnancies', 'Glucose', 'BP', 'SkinThickness', 'Insulin', 'BMI', 'Pedigree', 'Age']\n",
    "\n",
    "ROWS, COLS = 2,4\n",
    "fig, ax = plt.subplots(ROWS, COLS, figsize=(15,8) )\n",
    "row, col = 0, 0\n",
    "for i, feature in enumerate(features):\n",
    "    if col == COLS - 1:\n",
    "        row += 1\n",
    "    col = i % COLS\n",
    "    #sns.distplot(data[features],bins=5,ax=ax[row,col]).set_title(feature)\n",
    "    data[feature].hist(bins=35, color='green', alpha=0.5, ax=ax[row, col]).set_title(feature)\n",
    "  "
   ]
  },
  {
   "cell_type": "markdown",
   "metadata": {
    "colab_type": "text",
    "id": "Z5jkK3XWImv4"
   },
   "source": [
    "**Analysis:** We can see that because of imputed value 0, we might have in accurate predictions especially because of features like Glucose, BP, SkinThickness, Insulin and BMI. Hence, the data needs to be preprocessed"
   ]
  },
  {
   "cell_type": "markdown",
   "metadata": {
    "colab_type": "text",
    "id": "ZdEKfM5YI9S2"
   },
   "source": [
    "## **DATA PREPROCESSING**"
   ]
  },
  {
   "cell_type": "markdown",
   "metadata": {
    "colab_type": "text",
    "id": "xmW-MDcIJ_tQ"
   },
   "source": [
    " 3. Check and remove all duplicate columns from the Dataframe.  **NA**\n",
    " 5. Categorical Data - **NA**\n",
    " 6. Ordinal Data     - **NA**\n",
    " 7. DateTime Data    - **NA**"
   ]
  },
  {
   "cell_type": "markdown",
   "metadata": {
    "colab_type": "text",
    "id": "S1E2qOMsK8eY"
   },
   "source": [
    "### Check and remove all duplicate records from dataframe"
   ]
  },
  {
   "cell_type": "code",
   "execution_count": 0,
   "metadata": {
    "colab": {
     "base_uri": "https://localhost:8080/"
    },
    "colab_type": "code",
    "id": "apqHSUCYJA0n",
    "outputId": "247a95f6-a23a-4eed-c30c-9d115876e859"
   },
   "outputs": [
    {
     "data": {
      "text/plain": [
       "False"
      ]
     },
     "execution_count": 7,
     "metadata": {
      "tags": []
     },
     "output_type": "execute_result"
    }
   ],
   "source": [
    "data.duplicated().any()"
   ]
  },
  {
   "cell_type": "markdown",
   "metadata": {
    "colab_type": "text",
    "id": "wQfHr1qYLF3E"
   },
   "source": [
    "### If your data is continous numerical data, check with reference to domain whether the following parameters are valid or not:\n",
    "  1. Negative Numbers are allowed or not.\n",
    "  2. Positive Numbers are allowed or not.\n",
    "  3. Complex Numbers are allowed or not.\n",
    "  4. Decimals are allowed or just integers are expected"
   ]
  },
  {
   "cell_type": "code",
   "execution_count": 0,
   "metadata": {
    "colab": {
     "base_uri": "https://localhost:8080/"
    },
    "colab_type": "code",
    "id": "qmr3sF3UKjUq",
    "outputId": "0f96aebb-4b9f-47c9-8ea8-5b076913029e"
   },
   "outputs": [
    {
     "name": "stdout",
     "output_type": "stream",
     "text": [
      "No Negative value present in:  Pregnancies\n",
      "No Negative value present in:  Glucose\n",
      "No Negative value present in:  BP\n",
      "No Negative value present in:  SkinThickness\n",
      "No Negative value present in:  Insulin\n",
      "No Negative value present in:  BMI\n",
      "No Negative value present in:  Pedigree\n",
      "No Negative value present in:  Age\n"
     ]
    }
   ],
   "source": [
    "def check_negative(data=data,column = features):\n",
    "  for column in features:\n",
    "    if(data[column] < 0).any():\n",
    "      print(\"Negative value present in: \", column)\n",
    "    else:\n",
    "      print(\"No Negative value present in: \",column)\n",
    "\n",
    "check_negative()"
   ]
  },
  {
   "cell_type": "markdown",
   "metadata": {
    "colab_type": "text",
    "id": "hSEAQdz4Qrtu"
   },
   "source": [
    "### Handling Missing Imputed Values:"
   ]
  },
  {
   "cell_type": "code",
   "execution_count": 0,
   "metadata": {
    "colab": {
     "base_uri": "https://localhost:8080/",
     "height": 102
    },
    "colab_type": "code",
    "id": "IDdgr6DLQ4pJ",
    "outputId": "98a22eba-7632-444f-f4ca-0c803133ccce"
   },
   "outputs": [
    {
     "name": "stdout",
     "output_type": "stream",
     "text": [
      "Glucose Median value is:  117.0\n",
      "BP Median value is:  72.0\n",
      "SkinThickness Median value is:  29.0\n",
      "Insulin Median value is:  125.0\n",
      "BMI Median value is:  32.3\n"
     ]
    }
   ],
   "source": [
    "feature_fix = ['Glucose', 'BP', 'SkinThickness', 'Insulin', 'BMI']\n",
    "\n",
    "def impute_0_nan_median(data=data,column = feature_fix):\n",
    "  for column in feature_fix:\n",
    "    if(data[column] == 0).any():\n",
    "        data[column].loc[data[column] < 1] = np.nan\n",
    "        median = data[column].median()\n",
    "        print(column, \"Median value is: \", median)\n",
    "        data[column] = data[column].fillna(median)\n",
    "    else:\n",
    "      print(column, \"has no value that is equal to 0\")\n",
    "\n",
    "impute_0_nan_median()"
   ]
  },
  {
   "cell_type": "code",
   "execution_count": 0,
   "metadata": {
    "colab": {
     "base_uri": "https://localhost:8080/",
     "height": 204
    },
    "colab_type": "code",
    "id": "nMz-9bp6YjpB",
    "outputId": "c873ddbf-9db3-4e7c-caa2-3f40c1e3d458"
   },
   "outputs": [
    {
     "data": {
      "text/html": [
       "<div>\n",
       "<style scoped>\n",
       "    .dataframe tbody tr th:only-of-type {\n",
       "        vertical-align: middle;\n",
       "    }\n",
       "\n",
       "    .dataframe tbody tr th {\n",
       "        vertical-align: top;\n",
       "    }\n",
       "\n",
       "    .dataframe thead th {\n",
       "        text-align: right;\n",
       "    }\n",
       "</style>\n",
       "<table border=\"1\" class=\"dataframe\">\n",
       "  <thead>\n",
       "    <tr style=\"text-align: right;\">\n",
       "      <th></th>\n",
       "      <th>Pregnancies</th>\n",
       "      <th>Glucose</th>\n",
       "      <th>BP</th>\n",
       "      <th>SkinThickness</th>\n",
       "      <th>Insulin</th>\n",
       "      <th>BMI</th>\n",
       "      <th>Pedigree</th>\n",
       "      <th>Age</th>\n",
       "      <th>Diabetic</th>\n",
       "    </tr>\n",
       "  </thead>\n",
       "  <tbody>\n",
       "    <tr>\n",
       "      <th>0</th>\n",
       "      <td>6</td>\n",
       "      <td>148.0</td>\n",
       "      <td>72.0</td>\n",
       "      <td>35.0</td>\n",
       "      <td>125.0</td>\n",
       "      <td>33.6</td>\n",
       "      <td>0.627</td>\n",
       "      <td>50</td>\n",
       "      <td>1</td>\n",
       "    </tr>\n",
       "    <tr>\n",
       "      <th>1</th>\n",
       "      <td>1</td>\n",
       "      <td>85.0</td>\n",
       "      <td>66.0</td>\n",
       "      <td>29.0</td>\n",
       "      <td>125.0</td>\n",
       "      <td>26.6</td>\n",
       "      <td>0.351</td>\n",
       "      <td>31</td>\n",
       "      <td>0</td>\n",
       "    </tr>\n",
       "    <tr>\n",
       "      <th>2</th>\n",
       "      <td>8</td>\n",
       "      <td>183.0</td>\n",
       "      <td>64.0</td>\n",
       "      <td>29.0</td>\n",
       "      <td>125.0</td>\n",
       "      <td>23.3</td>\n",
       "      <td>0.672</td>\n",
       "      <td>32</td>\n",
       "      <td>1</td>\n",
       "    </tr>\n",
       "    <tr>\n",
       "      <th>3</th>\n",
       "      <td>1</td>\n",
       "      <td>89.0</td>\n",
       "      <td>66.0</td>\n",
       "      <td>23.0</td>\n",
       "      <td>94.0</td>\n",
       "      <td>28.1</td>\n",
       "      <td>0.167</td>\n",
       "      <td>21</td>\n",
       "      <td>0</td>\n",
       "    </tr>\n",
       "    <tr>\n",
       "      <th>4</th>\n",
       "      <td>0</td>\n",
       "      <td>137.0</td>\n",
       "      <td>40.0</td>\n",
       "      <td>35.0</td>\n",
       "      <td>168.0</td>\n",
       "      <td>43.1</td>\n",
       "      <td>2.288</td>\n",
       "      <td>33</td>\n",
       "      <td>1</td>\n",
       "    </tr>\n",
       "  </tbody>\n",
       "</table>\n",
       "</div>"
      ],
      "text/plain": [
       "   Pregnancies  Glucose    BP  SkinThickness  ...   BMI  Pedigree  Age  Diabetic\n",
       "0            6    148.0  72.0           35.0  ...  33.6     0.627   50         1\n",
       "1            1     85.0  66.0           29.0  ...  26.6     0.351   31         0\n",
       "2            8    183.0  64.0           29.0  ...  23.3     0.672   32         1\n",
       "3            1     89.0  66.0           23.0  ...  28.1     0.167   21         0\n",
       "4            0    137.0  40.0           35.0  ...  43.1     2.288   33         1\n",
       "\n",
       "[5 rows x 9 columns]"
      ]
     },
     "execution_count": 10,
     "metadata": {
      "tags": []
     },
     "output_type": "execute_result"
    }
   ],
   "source": [
    "data.head(5)"
   ]
  },
  {
   "cell_type": "markdown",
   "metadata": {
    "colab_type": "text",
    "id": "Qmb3kGAcimns"
   },
   "source": [
    "Visualizing the data again to see the distribution of data after replacing 0 with median values"
   ]
  },
  {
   "cell_type": "code",
   "execution_count": 0,
   "metadata": {
    "colab": {
     "base_uri": "https://localhost:8080/",
     "height": 499
    },
    "colab_type": "code",
    "id": "Xu-jeiI_iYuG",
    "outputId": "c9d34090-2aa5-424e-b1a0-5962a415f585"
   },
   "outputs": [
    {
     "data": {
      "image/png": "[encoded data removed]",
      "text/plain": [
       "<Figure size 1080x576 with 8 Axes>"
      ]
     },
     "metadata": {
      "needs_background": "light",
      "tags": []
     },
     "output_type": "display_data"
    }
   ],
   "source": [
    "ROWS, COLS = 2,4\n",
    "fig, ax = plt.subplots(ROWS, COLS, figsize=(15,8) )\n",
    "row, col = 0, 0\n",
    "for i, feature in enumerate(features):\n",
    "    if col == COLS - 1:\n",
    "        row += 1\n",
    "    col = i % COLS\n",
    "    #sns.distplot(data[features],bins=5,ax=ax[row,col]).set_title(feature)\n",
    "    data[feature].hist(bins=35, color='green', alpha=0.5, ax=ax[row, col]).set_title(feature)\n",
    "  "
   ]
  },
  {
   "cell_type": "markdown",
   "metadata": {
    "colab_type": "text",
    "id": "Pk-AiyYmPGF1"
   },
   "source": [
    "### Handling Outliers:"
   ]
  },
  {
   "cell_type": "code",
   "execution_count": 0,
   "metadata": {
    "colab": {},
    "colab_type": "code",
    "id": "8gNNiFjIQF9t"
   },
   "outputs": [],
   "source": [
    "data_outliners = pd.DataFrame()\n",
    "for columns in features:\n",
    "  data_outliners[columns] = data[columns]"
   ]
  },
  {
   "cell_type": "code",
   "execution_count": 0,
   "metadata": {
    "colab": {
     "base_uri": "https://localhost:8080/"
    },
    "colab_type": "code",
    "id": "ovGlc27oMEzE",
    "outputId": "3b70fb1a-b015-4156-9fd1-8cf4656b8d8c"
   },
   "outputs": [
    {
     "data": {
      "image/png": "[encoded data removed]",
      "text/plain": [
       "<Figure size 432x288 with 1 Axes>"
      ]
     },
     "metadata": {
      "needs_background": "light",
      "tags": []
     },
     "output_type": "display_data"
    },
    {
     "data": {
      "image/png": "[encoded data removed]",
      "text/plain": [
       "<Figure size 432x288 with 1 Axes>"
      ]
     },
     "metadata": {
      "needs_background": "light",
      "tags": []
     },
     "output_type": "display_data"
    },
    {
     "data": {
      "image/png": "[encoded data removed]",
      "text/plain": [
       "<Figure size 432x288 with 1 Axes>"
      ]
     },
     "metadata": {
      "needs_background": "light",
      "tags": []
     },
     "output_type": "display_data"
    },
    {
     "data": {
      "image/png": "[encoded data removed]",
      "text/plain": [
       "<Figure size 432x288 with 1 Axes>"
      ]
     },
     "metadata": {
      "needs_background": "light",
      "tags": []
     },
     "output_type": "display_data"
    },
    {
     "data": {
      "image/png": "[encoded data removed]",
      "text/plain": [
       "<Figure size 432x288 with 1 Axes>"
      ]
     },
     "metadata": {
      "needs_background": "light",
      "tags": []
     },
     "output_type": "display_data"
    },
    {
     "data": {
      "image/png": "[encoded data removed]",
      "text/plain": [
       "<Figure size 432x288 with 1 Axes>"
      ]
     },
     "metadata": {
      "needs_background": "light",
      "tags": []
     },
     "output_type": "display_data"
    },
    {
     "data": {
      "image/png": "[encoded data removed]",
      "text/plain": [
       "<Figure size 432x288 with 1 Axes>"
      ]
     },
     "metadata": {
      "needs_background": "light",
      "tags": []
     },
     "output_type": "display_data"
    },
    {
     "data": {
      "image/png": "[encoded data removed]",
      "text/plain": [
       "<Figure size 432x288 with 1 Axes>"
      ]
     },
     "metadata": {
      "needs_background": "light",
      "tags": []
     },
     "output_type": "display_data"
    }
   ],
   "source": [
    "for columns in features:\n",
    "  plt.figure()\n",
    "  data_outliners.boxplot([columns])"
   ]
  },
  {
   "cell_type": "markdown",
   "metadata": {
    "colab_type": "text",
    "id": "9thL_7gOihHV"
   },
   "source": [
    "VERIFY OUTLIERS USING PYTHON CODE"
   ]
  },
  {
   "cell_type": "code",
   "execution_count": 0,
   "metadata": {
    "colab": {},
    "colab_type": "code",
    "id": "jRoVumUHkkHW"
   },
   "outputs": [],
   "source": [
    "# Defining a function to calculate the lower bound and upper bound and if there exists any outlier\n",
    "def outlier_treatment(datacolumn):\n",
    " sorted(datacolumn)\n",
    " Q1,Q3 = np.nanpercentile(datacolumn , [25,75])\n",
    " IQR = Q3 - Q1\n",
    " lower_range = Q1 - (1.5 * IQR)\n",
    " upper_range = Q3 + (1.5 * IQR)\n",
    " print(\"Lower bound: \", lower_range, \"Upper bound: \", upper_range)\n",
    " if ((datacolumn < lower_range).any() or (datacolumn > upper_range).any()):\n",
    "  outliers = (datacolumn < lower_range).sum() + (datacolumn > upper_range).sum()\n",
    "  print(outliers, \" No of Outliers present: \", \"\\n\")\n",
    " else:\n",
    "  print(\"No Outliers Detected\", \"\\n\")\n",
    " return lower_range,upper_range"
   ]
  },
  {
   "cell_type": "code",
   "execution_count": 0,
   "metadata": {
    "colab": {
     "base_uri": "https://localhost:8080/"
    },
    "colab_type": "code",
    "id": "yLDmrN7ynXcl",
    "outputId": "a4bcd43b-674d-410f-e2c8-a0d10a50a572"
   },
   "outputs": [
    {
     "name": "stdout",
     "output_type": "stream",
     "text": [
      "Outlier check for column:  Pregnancies\n",
      "Lower bound:  -6.5 Upper bound:  13.5\n",
      "4  No of Outliers present:  \n",
      "\n",
      "Outlier check for column:  Glucose\n",
      "Lower bound:  39.0 Upper bound:  201.0\n",
      "No Outliers Detected \n",
      "\n",
      "Outlier check for column:  BP\n",
      "Lower bound:  40.0 Upper bound:  104.0\n",
      "14  No of Outliers present:  \n",
      "\n",
      "Outlier check for column:  SkinThickness\n",
      "Lower bound:  14.5 Upper bound:  42.5\n",
      "87  No of Outliers present:  \n",
      "\n",
      "Outlier check for column:  Insulin\n",
      "Lower bound:  112.875 Upper bound:  135.875\n",
      "346  No of Outliers present:  \n",
      "\n",
      "Outlier check for column:  BMI\n",
      "Lower bound:  13.849999999999998 Upper bound:  50.25\n",
      "8  No of Outliers present:  \n",
      "\n",
      "Outlier check for column:  Pedigree\n",
      "Lower bound:  -0.32999999999999996 Upper bound:  1.2\n",
      "29  No of Outliers present:  \n",
      "\n",
      "Outlier check for column:  Age\n",
      "Lower bound:  -1.5 Upper bound:  66.5\n",
      "9  No of Outliers present:  \n",
      "\n"
     ]
    }
   ],
   "source": [
    "# Running loop over the Data Frame with Numeric (Continuous) Values\n",
    "lowerbound = []\n",
    "upperbound = []\n",
    "for column in features:\n",
    "  print(\"Outlier check for column: \",column)\n",
    "  lowerbound_column, upperbound_column = outlier_treatment(data[column])\n",
    "  lowerbound.append(lowerbound_column)\n",
    "  upperbound.append(upperbound_column)"
   ]
  },
  {
   "cell_type": "code",
   "execution_count": 0,
   "metadata": {
    "colab": {
     "base_uri": "https://localhost:8080/"
    },
    "colab_type": "code",
    "id": "7xg3c1rrma8z",
    "outputId": "204c8fad-60db-4c52-84ce-309db974e594"
   },
   "outputs": [
    {
     "name": "stdout",
     "output_type": "stream",
     "text": [
      "Skipping to drop elements for:  SkinThickness\n",
      "Skipping to drop elements for:  Insulin\n"
     ]
    }
   ],
   "source": [
    "#Drop the column with the outliner values\n",
    "for i,column in enumerate(features):\n",
    "  if((column == 'Insulin')|(column=='SkinThickness')):\n",
    "    print(\"Skipping to drop elements for: \", column)\n",
    "  else:\n",
    "   data.drop(data[(data[column] < lowerbound[i]) | (data[column] > upperbound[i])].index, axis=0, inplace=True)"
   ]
  },
  {
   "cell_type": "markdown",
   "metadata": {
    "colab_type": "text",
    "id": "n2s1ekHGAKsT"
   },
   "source": [
    "Looking at Outliers, seems Insulin feature can be dropped as it has many Outliers. Holding it as of now to see if it's an important feature, using feature Selection Techniques"
   ]
  },
  {
   "cell_type": "code",
   "execution_count": 0,
   "metadata": {
    "colab": {},
    "colab_type": "code",
    "id": "ySIWE039o470"
   },
   "outputs": [],
   "source": [
    "data.reset_index(drop=True, inplace=True)"
   ]
  },
  {
   "cell_type": "code",
   "execution_count": 0,
   "metadata": {
    "colab": {
     "base_uri": "https://localhost:8080/"
    },
    "colab_type": "code",
    "id": "t6_RmtHAoNdL",
    "outputId": "19c24984-f5c3-4235-e7dc-5c77fd707342"
   },
   "outputs": [
    {
     "data": {
      "text/plain": [
       "(707, 9)"
      ]
     },
     "execution_count": 18,
     "metadata": {
      "tags": []
     },
     "output_type": "execute_result"
    }
   ],
   "source": [
    "data.shape"
   ]
  },
  {
   "cell_type": "markdown",
   "metadata": {
    "colab_type": "text",
    "id": "lymnkcTTpaNO"
   },
   "source": [
    "### SEPARATING FEATURES AND LABELS"
   ]
  },
  {
   "cell_type": "markdown",
   "metadata": {
    "colab_type": "text",
    "id": "cON14ixQzNsY"
   },
   "source": [
    "For Sklearn users:\n",
    "\n",
    "Rules for Regression:\n",
    " 1. Features and label must be in the form of numpy array\n",
    " 2. Features must be in 2d array\n",
    " 3. Label must be in 1d array"
   ]
  },
  {
   "cell_type": "code",
   "execution_count": 0,
   "metadata": {
    "colab": {
     "base_uri": "https://localhost:8080/",
     "height": 204
    },
    "colab_type": "code",
    "id": "WoYV-VsvFlCE",
    "outputId": "5aa81187-5795-4364-ff1f-585641303f05"
   },
   "outputs": [
    {
     "data": {
      "text/html": [
       "<div>\n",
       "<style scoped>\n",
       "    .dataframe tbody tr th:only-of-type {\n",
       "        vertical-align: middle;\n",
       "    }\n",
       "\n",
       "    .dataframe tbody tr th {\n",
       "        vertical-align: top;\n",
       "    }\n",
       "\n",
       "    .dataframe thead th {\n",
       "        text-align: right;\n",
       "    }\n",
       "</style>\n",
       "<table border=\"1\" class=\"dataframe\">\n",
       "  <thead>\n",
       "    <tr style=\"text-align: right;\">\n",
       "      <th></th>\n",
       "      <th>Pregnancies</th>\n",
       "      <th>Glucose</th>\n",
       "      <th>BP</th>\n",
       "      <th>SkinThickness</th>\n",
       "      <th>Insulin</th>\n",
       "      <th>BMI</th>\n",
       "      <th>Pedigree</th>\n",
       "      <th>Age</th>\n",
       "      <th>Diabetic</th>\n",
       "    </tr>\n",
       "  </thead>\n",
       "  <tbody>\n",
       "    <tr>\n",
       "      <th>0</th>\n",
       "      <td>6</td>\n",
       "      <td>148.0</td>\n",
       "      <td>72.0</td>\n",
       "      <td>35.0</td>\n",
       "      <td>125.0</td>\n",
       "      <td>33.6</td>\n",
       "      <td>0.627</td>\n",
       "      <td>50</td>\n",
       "      <td>1</td>\n",
       "    </tr>\n",
       "    <tr>\n",
       "      <th>1</th>\n",
       "      <td>1</td>\n",
       "      <td>85.0</td>\n",
       "      <td>66.0</td>\n",
       "      <td>29.0</td>\n",
       "      <td>125.0</td>\n",
       "      <td>26.6</td>\n",
       "      <td>0.351</td>\n",
       "      <td>31</td>\n",
       "      <td>0</td>\n",
       "    </tr>\n",
       "    <tr>\n",
       "      <th>2</th>\n",
       "      <td>8</td>\n",
       "      <td>183.0</td>\n",
       "      <td>64.0</td>\n",
       "      <td>29.0</td>\n",
       "      <td>125.0</td>\n",
       "      <td>23.3</td>\n",
       "      <td>0.672</td>\n",
       "      <td>32</td>\n",
       "      <td>1</td>\n",
       "    </tr>\n",
       "    <tr>\n",
       "      <th>3</th>\n",
       "      <td>1</td>\n",
       "      <td>89.0</td>\n",
       "      <td>66.0</td>\n",
       "      <td>23.0</td>\n",
       "      <td>94.0</td>\n",
       "      <td>28.1</td>\n",
       "      <td>0.167</td>\n",
       "      <td>21</td>\n",
       "      <td>0</td>\n",
       "    </tr>\n",
       "    <tr>\n",
       "      <th>4</th>\n",
       "      <td>5</td>\n",
       "      <td>116.0</td>\n",
       "      <td>74.0</td>\n",
       "      <td>29.0</td>\n",
       "      <td>125.0</td>\n",
       "      <td>25.6</td>\n",
       "      <td>0.201</td>\n",
       "      <td>30</td>\n",
       "      <td>0</td>\n",
       "    </tr>\n",
       "  </tbody>\n",
       "</table>\n",
       "</div>"
      ],
      "text/plain": [
       "   Pregnancies  Glucose    BP  SkinThickness  ...   BMI  Pedigree  Age  Diabetic\n",
       "0            6    148.0  72.0           35.0  ...  33.6     0.627   50         1\n",
       "1            1     85.0  66.0           29.0  ...  26.6     0.351   31         0\n",
       "2            8    183.0  64.0           29.0  ...  23.3     0.672   32         1\n",
       "3            1     89.0  66.0           23.0  ...  28.1     0.167   21         0\n",
       "4            5    116.0  74.0           29.0  ...  25.6     0.201   30         0\n",
       "\n",
       "[5 rows x 9 columns]"
      ]
     },
     "execution_count": 19,
     "metadata": {
      "tags": []
     },
     "output_type": "execute_result"
    }
   ],
   "source": [
    "data.head()"
   ]
  },
  {
   "cell_type": "code",
   "execution_count": 0,
   "metadata": {
    "colab": {},
    "colab_type": "code",
    "id": "K4k_knJgpXLg"
   },
   "outputs": [],
   "source": [
    "features = data.iloc[:,:-1].values\n",
    "label = data.iloc[:,8].values"
   ]
  },
  {
   "cell_type": "code",
   "execution_count": 0,
   "metadata": {
    "colab": {
     "base_uri": "https://localhost:8080/",
     "height": 51
    },
    "colab_type": "code",
    "id": "uGN6AqCpqCs7",
    "outputId": "4d61dc3f-14dd-4e93-ee86-bb5f2bef4980"
   },
   "outputs": [
    {
     "name": "stdout",
     "output_type": "stream",
     "text": [
      "Dimension on feature is:  2 \t Dimension of label:  1 \n",
      "\n"
     ]
    }
   ],
   "source": [
    "print(\"Dimension on feature is: \", features.ndim,\"\\t\",\"Dimension of label: \", label.ndim, \"\\n\")"
   ]
  },
  {
   "cell_type": "markdown",
   "metadata": {
    "colab_type": "text",
    "id": "ymv6_aAeG4dZ"
   },
   "source": [
    "## **CHECK BALANCE OR UNBALANCED DATA**"
   ]
  },
  {
   "cell_type": "code",
   "execution_count": 0,
   "metadata": {
    "colab": {
     "base_uri": "https://localhost:8080/",
     "height": 364
    },
    "colab_type": "code",
    "id": "ACjoP-dmHCsu",
    "outputId": "31430111-37fb-441c-c8d6-94e6df44b99a"
   },
   "outputs": [
    {
     "name": "stdout",
     "output_type": "stream",
     "text": [
      "Count of Diabetic and non Diabetic:  \n",
      " 0    471\n",
      "1    236\n",
      "Name: Diabetic, dtype: int64 \n",
      "\n"
     ]
    },
    {
     "data": {
      "text/plain": [
       "<matplotlib.axes._subplots.AxesSubplot at 0x7fdc39e84860>"
      ]
     },
     "execution_count": 22,
     "metadata": {
      "tags": []
     },
     "output_type": "execute_result"
    },
    {
     "data": {
      "image/png": "[encoded data removed]",
      "text/plain": [
       "<Figure size 432x288 with 1 Axes>"
      ]
     },
     "metadata": {
      "needs_background": "light",
      "tags": []
     },
     "output_type": "display_data"
    }
   ],
   "source": [
    "print(\"Count of Diabetic and non Diabetic: \",\"\\n\", data['Diabetic'].value_counts(),\"\\n\")\n",
    "data.Diabetic.value_counts().plot(kind='bar')"
   ]
  },
  {
   "cell_type": "markdown",
   "metadata": {
    "colab_type": "text",
    "id": "JMH2OJjyK7xB"
   },
   "source": [
    "**Analysis:** We can see that the data is unbalanced. There are **471** - **Non Diabetic** patients and **236** - **Diabetic** Patients"
   ]
  },
  {
   "cell_type": "markdown",
   "metadata": {
    "colab_type": "text",
    "id": "qSku2XxY2NhE"
   },
   "source": [
    "## **FEATURE ENGINEERING**\n",
    "\n",
    "```\n",
    "Column 0: Pregnancies\n",
    "Column 1: Glucose\n",
    "Column 2: BP\n",
    "Column 3: SkinThickness\n",
    "Column 4: Insulin\n",
    "Column 5: BMI\n",
    "Column 6: Pedigree\n",
    "Column 7: Age\n",
    "```\n",
    "\n"
   ]
  },
  {
   "cell_type": "markdown",
   "metadata": {
    "colab_type": "text",
    "id": "8q7hT6Rm2ZbS"
   },
   "source": [
    "### Method 1. Correlation Analysis\n",
    "\n",
    "Regression ---> To check the best **Feature** w.r.t **Label**"
   ]
  },
  {
   "cell_type": "code",
   "execution_count": 0,
   "metadata": {
    "colab": {
     "base_uri": "https://localhost:8080/"
    },
    "colab_type": "code",
    "id": "67mXPX78uEzY",
    "outputId": "449293db-bdc4-4b1a-80c0-ef44ea130b1b"
   },
   "outputs": [
    {
     "data": {
      "text/html": [
       "<div>\n",
       "<style scoped>\n",
       "    .dataframe tbody tr th:only-of-type {\n",
       "        vertical-align: middle;\n",
       "    }\n",
       "\n",
       "    .dataframe tbody tr th {\n",
       "        vertical-align: top;\n",
       "    }\n",
       "\n",
       "    .dataframe thead th {\n",
       "        text-align: right;\n",
       "    }\n",
       "</style>\n",
       "<table border=\"1\" class=\"dataframe\">\n",
       "  <thead>\n",
       "    <tr style=\"text-align: right;\">\n",
       "      <th></th>\n",
       "      <th>Pregnancies</th>\n",
       "      <th>Glucose</th>\n",
       "      <th>BP</th>\n",
       "      <th>SkinThickness</th>\n",
       "      <th>Insulin</th>\n",
       "      <th>BMI</th>\n",
       "      <th>Pedigree</th>\n",
       "      <th>Age</th>\n",
       "      <th>Diabetic</th>\n",
       "    </tr>\n",
       "  </thead>\n",
       "  <tbody>\n",
       "    <tr>\n",
       "      <th>Pregnancies</th>\n",
       "      <td>1.000000</td>\n",
       "      <td>0.117264</td>\n",
       "      <td>0.189228</td>\n",
       "      <td>0.111943</td>\n",
       "      <td>0.039331</td>\n",
       "      <td>0.025880</td>\n",
       "      <td>0.010595</td>\n",
       "      <td>0.554594</td>\n",
       "      <td>0.220503</td>\n",
       "    </tr>\n",
       "    <tr>\n",
       "      <th>Glucose</th>\n",
       "      <td>0.117264</td>\n",
       "      <td>1.000000</td>\n",
       "      <td>0.202953</td>\n",
       "      <td>0.167646</td>\n",
       "      <td>0.426071</td>\n",
       "      <td>0.208059</td>\n",
       "      <td>0.088648</td>\n",
       "      <td>0.291893</td>\n",
       "      <td>0.506852</td>\n",
       "    </tr>\n",
       "    <tr>\n",
       "      <th>BP</th>\n",
       "      <td>0.189228</td>\n",
       "      <td>0.202953</td>\n",
       "      <td>1.000000</td>\n",
       "      <td>0.201985</td>\n",
       "      <td>0.026096</td>\n",
       "      <td>0.279169</td>\n",
       "      <td>0.030960</td>\n",
       "      <td>0.335870</td>\n",
       "      <td>0.173087</td>\n",
       "    </tr>\n",
       "    <tr>\n",
       "      <th>SkinThickness</th>\n",
       "      <td>0.111943</td>\n",
       "      <td>0.167646</td>\n",
       "      <td>0.201985</td>\n",
       "      <td>1.000000</td>\n",
       "      <td>0.153057</td>\n",
       "      <td>0.536053</td>\n",
       "      <td>0.067144</td>\n",
       "      <td>0.156511</td>\n",
       "      <td>0.198625</td>\n",
       "    </tr>\n",
       "    <tr>\n",
       "      <th>Insulin</th>\n",
       "      <td>0.039331</td>\n",
       "      <td>0.426071</td>\n",
       "      <td>0.026096</td>\n",
       "      <td>0.153057</td>\n",
       "      <td>1.000000</td>\n",
       "      <td>0.179442</td>\n",
       "      <td>0.092467</td>\n",
       "      <td>0.139810</td>\n",
       "      <td>0.233668</td>\n",
       "    </tr>\n",
       "    <tr>\n",
       "      <th>BMI</th>\n",
       "      <td>0.025880</td>\n",
       "      <td>0.208059</td>\n",
       "      <td>0.279169</td>\n",
       "      <td>0.536053</td>\n",
       "      <td>0.179442</td>\n",
       "      <td>1.000000</td>\n",
       "      <td>0.144804</td>\n",
       "      <td>0.059426</td>\n",
       "      <td>0.283426</td>\n",
       "    </tr>\n",
       "    <tr>\n",
       "      <th>Pedigree</th>\n",
       "      <td>0.010595</td>\n",
       "      <td>0.088648</td>\n",
       "      <td>0.030960</td>\n",
       "      <td>0.067144</td>\n",
       "      <td>0.092467</td>\n",
       "      <td>0.144804</td>\n",
       "      <td>1.000000</td>\n",
       "      <td>0.047079</td>\n",
       "      <td>0.174069</td>\n",
       "    </tr>\n",
       "    <tr>\n",
       "      <th>Age</th>\n",
       "      <td>0.554594</td>\n",
       "      <td>0.291893</td>\n",
       "      <td>0.335870</td>\n",
       "      <td>0.156511</td>\n",
       "      <td>0.139810</td>\n",
       "      <td>0.059426</td>\n",
       "      <td>0.047079</td>\n",
       "      <td>1.000000</td>\n",
       "      <td>0.277861</td>\n",
       "    </tr>\n",
       "    <tr>\n",
       "      <th>Diabetic</th>\n",
       "      <td>0.220503</td>\n",
       "      <td>0.506852</td>\n",
       "      <td>0.173087</td>\n",
       "      <td>0.198625</td>\n",
       "      <td>0.233668</td>\n",
       "      <td>0.283426</td>\n",
       "      <td>0.174069</td>\n",
       "      <td>0.277861</td>\n",
       "      <td>1.000000</td>\n",
       "    </tr>\n",
       "  </tbody>\n",
       "</table>\n",
       "</div>"
      ],
      "text/plain": [
       "               Pregnancies   Glucose        BP  ...  Pedigree       Age  Diabetic\n",
       "Pregnancies       1.000000  0.117264  0.189228  ...  0.010595  0.554594  0.220503\n",
       "Glucose           0.117264  1.000000  0.202953  ...  0.088648  0.291893  0.506852\n",
       "BP                0.189228  0.202953  1.000000  ...  0.030960  0.335870  0.173087\n",
       "SkinThickness     0.111943  0.167646  0.201985  ...  0.067144  0.156511  0.198625\n",
       "Insulin           0.039331  0.426071  0.026096  ...  0.092467  0.139810  0.233668\n",
       "BMI               0.025880  0.208059  0.279169  ...  0.144804  0.059426  0.283426\n",
       "Pedigree          0.010595  0.088648  0.030960  ...  1.000000  0.047079  0.174069\n",
       "Age               0.554594  0.291893  0.335870  ...  0.047079  1.000000  0.277861\n",
       "Diabetic          0.220503  0.506852  0.173087  ...  0.174069  0.277861  1.000000\n",
       "\n",
       "[9 rows x 9 columns]"
      ]
     },
     "execution_count": 23,
     "metadata": {
      "tags": []
     },
     "output_type": "execute_result"
    }
   ],
   "source": [
    "data.corr()"
   ]
  },
  {
   "cell_type": "markdown",
   "metadata": {
    "colab_type": "text",
    "id": "5jHSJIQ13AHk"
   },
   "source": [
    "Rule:\n",
    "\n",
    " Select those features who have corr val greater than 50% (0.5)\n",
    "\n",
    " Features Selected: **Glucose**\n",
    "\n",
    " Features Eliminated: **Pregnencies, BP, SkinThickness, Insulin, BMI, Pedigree, Age**"
   ]
  },
  {
   "cell_type": "markdown",
   "metadata": {
    "colab_type": "text",
    "id": "SaPgzOk7Gn9V"
   },
   "source": [
    "### Method 3: RFE (Recursive Feature Elimination ) Technique"
   ]
  },
  {
   "cell_type": "markdown",
   "metadata": {
    "colab_type": "text",
    "id": "3rgBGl66Rs4_"
   },
   "source": [
    "STEPS to be followed:\n",
    " 1. Initialize the model algorithm\n",
    " 2. Apply RFE to model (ALL FEATURES AND LABEL)\n",
    " 3. Get Features with High Ranking (1,2,3,4,...) (Get features that has Rank 1. Sometimes Rank 2 is considered)"
   ]
  },
  {
   "cell_type": "code",
   "execution_count": 0,
   "metadata": {
    "colab": {
     "base_uri": "https://localhost:8080/"
    },
    "colab_type": "code",
    "id": "AEN5R222Gn9j",
    "outputId": "a8477047-8ac5-4893-f85e-c73dd25ee58a"
   },
   "outputs": [
    {
     "name": "stdout",
     "output_type": "stream",
     "text": [
      "[1 1 3 4 5 1 1 2]\n"
     ]
    }
   ],
   "source": [
    "# 1. Initialize the model algorithm\n",
    "from sklearn.linear_model import LogisticRegression\n",
    "modelLR = LogisticRegression()\n",
    "\n",
    "# 2. Apply RFE to model (ALL FEATURES AND LABEL)\n",
    "from sklearn.feature_selection import RFE\n",
    "selectFeaturesFromRFE = RFE(estimator=modelLR,\n",
    "                           step=1) \n",
    "\n",
    "# Fit the data with RFE\n",
    "selectFeaturesFromRFE.fit(features,label)\n",
    "\n",
    "# 3. Get Features with High Ranking (1,2,3,4,...) (Get features that has Rank 1. Sometimes Rank 2 is considered)\n",
    "print(selectFeaturesFromRFE.ranking_)"
   ]
  },
  {
   "cell_type": "markdown",
   "metadata": {
    "colab_type": "text",
    "id": "O_pERGILSJWO"
   },
   "source": [
    "Features selected: **Pregnancies, Glucose, BMI, Pedigree**\n",
    "\n",
    "Features not Selected : **BP, SkinThickness, Insulin, Age**"
   ]
  },
  {
   "cell_type": "markdown",
   "metadata": {
    "colab_type": "text",
    "id": "9klvvZJBGn91"
   },
   "source": [
    "### Method 4: Select From Model"
   ]
  },
  {
   "cell_type": "markdown",
   "metadata": {
    "colab_type": "text",
    "id": "7bfucr3AToQY"
   },
   "source": [
    "Steps to apply SBM (All Model algo will work)\n",
    " 1. Initialize the model algorithm\n",
    " 2. Apply RFE to model (ALL FEATURES AND LABEL)\n",
    " 3. Get Features with High Support (True/False) "
   ]
  },
  {
   "cell_type": "code",
   "execution_count": 0,
   "metadata": {
    "colab": {
     "base_uri": "https://localhost:8080/",
     "height": 34
    },
    "colab_type": "code",
    "id": "SbcLxcY4Gn-O",
    "outputId": "0c62c08f-3e85-4eae-df71-fc385dddaca1"
   },
   "outputs": [
    {
     "name": "stdout",
     "output_type": "stream",
     "text": [
      "[False False False False False False  True False]\n"
     ]
    }
   ],
   "source": [
    "# 1. Initialize the model algorithm\n",
    "from sklearn.linear_model import LogisticRegression\n",
    "modelLR = LogisticRegression()\n",
    "\n",
    "# 2. Apply SBM to model (ALL FEATURES AND LABEL)\n",
    "from sklearn.feature_selection import SelectFromModel\n",
    "selectFeaturesFromSFM = SelectFromModel(modelLR)\n",
    "\n",
    "# Fit the data with SFM\n",
    "selectFeaturesFromSFM.fit(features,label)\n",
    "\n",
    "# 3. Get Features with True value\n",
    "print(selectFeaturesFromSFM.get_support())"
   ]
  },
  {
   "cell_type": "markdown",
   "metadata": {
    "colab_type": "text",
    "id": "Lw7-tDdHURTz"
   },
   "source": [
    "**Analysis:** Select **Pedigree** as finalFeatures"
   ]
  },
  {
   "cell_type": "markdown",
   "metadata": {
    "colab_type": "text",
    "id": "dZuJH-94WPFl"
   },
   "source": [
    "### Method 5: ANOVA"
   ]
  },
  {
   "cell_type": "code",
   "execution_count": 0,
   "metadata": {
    "colab": {
     "base_uri": "https://localhost:8080/",
     "height": 297
    },
    "colab_type": "code",
    "id": "7bWvUntVTlUQ",
    "outputId": "b1f46b25-44ee-4e9c-d0f6-25043817dfb0"
   },
   "outputs": [
    {
     "data": {
      "text/html": [
       "<div>\n",
       "<style scoped>\n",
       "    .dataframe tbody tr th:only-of-type {\n",
       "        vertical-align: middle;\n",
       "    }\n",
       "\n",
       "    .dataframe tbody tr th {\n",
       "        vertical-align: top;\n",
       "    }\n",
       "\n",
       "    .dataframe thead th {\n",
       "        text-align: right;\n",
       "    }\n",
       "</style>\n",
       "<table border=\"1\" class=\"dataframe\">\n",
       "  <thead>\n",
       "    <tr style=\"text-align: right;\">\n",
       "      <th></th>\n",
       "      <th>sum_sq</th>\n",
       "      <th>df</th>\n",
       "      <th>F</th>\n",
       "      <th>PR(&gt;F)</th>\n",
       "    </tr>\n",
       "  </thead>\n",
       "  <tbody>\n",
       "    <tr>\n",
       "      <th>C(Glucose)</th>\n",
       "      <td>27.612163</td>\n",
       "      <td>133.0</td>\n",
       "      <td>1.745326</td>\n",
       "      <td>0.014364</td>\n",
       "    </tr>\n",
       "    <tr>\n",
       "      <th>C(BP)</th>\n",
       "      <td>6.178438</td>\n",
       "      <td>36.0</td>\n",
       "      <td>1.442793</td>\n",
       "      <td>0.116919</td>\n",
       "    </tr>\n",
       "    <tr>\n",
       "      <th>C(BMI)</th>\n",
       "      <td>38.428995</td>\n",
       "      <td>231.0</td>\n",
       "      <td>1.398540</td>\n",
       "      <td>0.082551</td>\n",
       "    </tr>\n",
       "    <tr>\n",
       "      <th>C(Insulin)</th>\n",
       "      <td>28.344621</td>\n",
       "      <td>173.0</td>\n",
       "      <td>1.377376</td>\n",
       "      <td>0.097117</td>\n",
       "    </tr>\n",
       "    <tr>\n",
       "      <th>C(SkinThickness)</th>\n",
       "      <td>7.621164</td>\n",
       "      <td>47.0</td>\n",
       "      <td>1.363174</td>\n",
       "      <td>0.144241</td>\n",
       "    </tr>\n",
       "    <tr>\n",
       "      <th>C(Age)</th>\n",
       "      <td>7.297137</td>\n",
       "      <td>45.0</td>\n",
       "      <td>1.363226</td>\n",
       "      <td>0.146154</td>\n",
       "    </tr>\n",
       "    <tr>\n",
       "      <th>C(Pregnancies)</th>\n",
       "      <td>1.734205</td>\n",
       "      <td>13.0</td>\n",
       "      <td>1.121463</td>\n",
       "      <td>0.365215</td>\n",
       "    </tr>\n",
       "    <tr>\n",
       "      <th>Residual</th>\n",
       "      <td>5.709702</td>\n",
       "      <td>48.0</td>\n",
       "      <td>NaN</td>\n",
       "      <td>NaN</td>\n",
       "    </tr>\n",
       "  </tbody>\n",
       "</table>\n",
       "</div>"
      ],
      "text/plain": [
       "                     sum_sq     df         F    PR(>F)\n",
       "C(Glucose)        27.612163  133.0  1.745326  0.014364\n",
       "C(BP)              6.178438   36.0  1.442793  0.116919\n",
       "C(BMI)            38.428995  231.0  1.398540  0.082551\n",
       "C(Insulin)        28.344621  173.0  1.377376  0.097117\n",
       "C(SkinThickness)   7.621164   47.0  1.363174  0.144241\n",
       "C(Age)             7.297137   45.0  1.363226  0.146154\n",
       "C(Pregnancies)     1.734205   13.0  1.121463  0.365215\n",
       "Residual           5.709702   48.0       NaN       NaN"
      ]
     },
     "execution_count": 47,
     "metadata": {
      "tags": []
     },
     "output_type": "execute_result"
    }
   ],
   "source": [
    "import statsmodels.api as sm\n",
    "from statsmodels.formula.api import ols\n",
    "from statsmodels.stats.anova import anova_lm\n",
    "import scipy.stats as stats\n",
    "formula = 'Diabetic ~ C(Glucose) + C(BP) + C(BMI) + C(Insulin)+ C(SkinThickness) + C(Age) + C(Pregnancies)'\n",
    "model = ols(formula, data).fit()\n",
    "aov_table = anova_lm(model, typ=2)\n",
    "aov_table"
   ]
  },
  {
   "cell_type": "markdown",
   "metadata": {
    "colab_type": "text",
    "id": "OfJm0RVBjz2O"
   },
   "source": [
    "Selected features: **Glucose, BP, BMI, Insulin, SkinThickness, Age**"
   ]
  },
  {
   "cell_type": "markdown",
   "metadata": {
    "colab_type": "text",
    "id": "fxeN-GmdGn-c"
   },
   "source": [
    "## **OUTPUTS - FEATURE ENGINEERING**"
   ]
  },
  {
   "cell_type": "markdown",
   "metadata": {
    "colab_type": "text",
    "id": "C0OVRebNaMFL"
   },
   "source": [
    "### Find Accuracies"
   ]
  },
  {
   "cell_type": "code",
   "execution_count": 0,
   "metadata": {
    "colab": {
     "base_uri": "https://localhost:8080/"
    },
    "colab_type": "code",
    "id": "TXOieQX0WeJ9",
    "outputId": "ae4e297c-a403-4210-fdac-de2ee80908e7"
   },
   "outputs": [
    {
     "name": "stdout",
     "output_type": "stream",
     "text": [
      "Test: 0.8380281690140845 , Train: 0.7327433628318584 , RS : 151\n",
      "Test: 0.8309859154929577 , Train: 0.7345132743362832 , RS : 526\n",
      "Test: 0.8380281690140845 , Train: 0.7345132743362832 , RS : 583\n"
     ]
    }
   ],
   "source": [
    "#Corelation Analysis\n",
    "feature_featureEngg = features[:,[1]]\n",
    "\n",
    "from sklearn.linear_model import LogisticRegression\n",
    "from sklearn.model_selection import train_test_split\n",
    "\n",
    "for i in range(1,700):\n",
    "    X_train,X_test,y_train,y_test = train_test_split(feature_featureEngg, label, test_size=0.2, random_state = i)\n",
    "    model1 = LogisticRegression()\n",
    "    model1.fit(X_train,y_train)\n",
    "    \n",
    "    train_score = model1.score(X_train,y_train)\n",
    "    test_score = model1.score(X_test,y_test)\n",
    "    \n",
    "    if (test_score > train_score) & (test_score>0.83):\n",
    "        print(\"Test: {} , Train: {} , RS : {}\".format(test_score,train_score,i))"
   ]
  },
  {
   "cell_type": "code",
   "execution_count": 0,
   "metadata": {
    "colab": {
     "base_uri": "https://localhost:8080/"
    },
    "colab_type": "code",
    "id": "II9W-xnh_QZ8",
    "outputId": "db526474-dd6c-44fd-976b-8c0c83b29594"
   },
   "outputs": [
    {
     "name": "stdout",
     "output_type": "stream",
     "text": [
      "Test: 0.8450704225352113 , Train: 0.7592920353982301 , RS : 14\n",
      "Test: 0.8661971830985915 , Train: 0.7522123893805309 , RS : 340\n",
      "Test: 0.8450704225352113 , Train: 0.7610619469026548 , RS : 341\n",
      "Test: 0.852112676056338 , Train: 0.7592920353982301 , RS : 577\n",
      "Test: 0.8661971830985915 , Train: 0.7610619469026548 , RS : 583\n",
      "Test: 0.852112676056338 , Train: 0.7610619469026548 , RS : 611\n"
     ]
    }
   ],
   "source": [
    "#RFE\n",
    "feature_featureEngg = features[:,[0,1,5,6]]\n",
    "\n",
    "for i in range(1,700):\n",
    "    X_train,X_test,y_train,y_test = train_test_split(feature_featureEngg, label, test_size=0.2, random_state = i)\n",
    "    model1 = LogisticRegression()\n",
    "    model1.fit(X_train,y_train)\n",
    "    \n",
    "    train_score = model1.score(X_train,y_train)\n",
    "    test_score = model1.score(X_test,y_test)\n",
    "    \n",
    "    if (test_score > train_score) & (test_score>0.84):\n",
    "        print(\"Test: {} , Train: {} , RS : {}\".format(test_score,train_score,i))"
   ]
  },
  {
   "cell_type": "code",
   "execution_count": 0,
   "metadata": {
    "colab": {
     "base_uri": "https://localhost:8080/"
    },
    "colab_type": "code",
    "id": "4tneAwif_qkC",
    "outputId": "2c377803-03ca-426a-f06a-c207de365997"
   },
   "outputs": [
    {
     "name": "stdout",
     "output_type": "stream",
     "text": [
      "Test: 0.7605633802816901 , Train: 0.6442477876106195 , RS : 51\n",
      "Test: 0.7535211267605634 , Train: 0.6442477876106195 , RS : 306\n",
      "Test: 0.7535211267605634 , Train: 0.647787610619469 , RS : 467\n",
      "Test: 0.7605633802816901 , Train: 0.6460176991150443 , RS : 583\n",
      "Test: 0.7746478873239436 , Train: 0.6407079646017699 , RS : 650\n"
     ]
    }
   ],
   "source": [
    "#SFM\n",
    "feature_featureEngg = features[:,[6]]\n",
    "\n",
    "for i in range(1,700):\n",
    "    X_train,X_test,y_train,y_test = train_test_split(feature_featureEngg, label, test_size=0.2, random_state = i)\n",
    "    model1 = LogisticRegression()\n",
    "    model1.fit(X_train,y_train)\n",
    "    \n",
    "    train_score = model1.score(X_train,y_train)\n",
    "    test_score = model1.score(X_test,y_test)\n",
    "    \n",
    "    if (test_score > train_score) & (test_score>0.75):\n",
    "        print(\"Test: {} , Train: {} , RS : {}\".format(test_score,train_score,i))"
   ]
  },
  {
   "cell_type": "code",
   "execution_count": 0,
   "metadata": {
    "colab": {
     "base_uri": "https://localhost:8080/"
    },
    "colab_type": "code",
    "id": "jvK9IGZw_zpv",
    "outputId": "a41c35ac-6ddd-4e41-c8a8-791c420a2b3c"
   },
   "outputs": [
    {
     "name": "stdout",
     "output_type": "stream",
     "text": [
      "Test: 0.852112676056338 , Train: 0.7557522123893805 , RS : 14\n",
      "Test: 0.852112676056338 , Train: 0.768141592920354 , RS : 371\n",
      "Test: 0.8591549295774648 , Train: 0.7663716814159292 , RS : 583\n"
     ]
    }
   ],
   "source": [
    "#All features\n",
    "feature_featureEngg = features[:,:]\n",
    "\n",
    "for i in range(1,700):\n",
    "    X_train,X_test,y_train,y_test = train_test_split(feature_featureEngg, label, test_size=0.2, random_state = i)\n",
    "    model1 = LogisticRegression()\n",
    "    model1.fit(X_train,y_train)\n",
    "    \n",
    "    train_score = model1.score(X_train,y_train)\n",
    "    test_score = model1.score(X_test,y_test)\n",
    "    \n",
    "    if (test_score > train_score) & (test_score>0.85):\n",
    "        print(\"Test: {} , Train: {} , RS : {}\".format(test_score,train_score,i))"
   ]
  },
  {
   "cell_type": "markdown",
   "metadata": {
    "colab_type": "text",
    "id": "55p8hqQKaI3t"
   },
   "source": [
    "### Comparision Table"
   ]
  },
  {
   "cell_type": "code",
   "execution_count": 0,
   "metadata": {
    "colab": {
     "base_uri": "https://localhost:8080/",
     "height": 173
    },
    "colab_type": "code",
    "id": "FDskz0vbBUlA",
    "outputId": "0b38807b-2f9d-49c9-afc8-fd90527ff65c"
   },
   "outputs": [
    {
     "data": {
      "text/html": [
       "<div>\n",
       "<style scoped>\n",
       "    .dataframe tbody tr th:only-of-type {\n",
       "        vertical-align: middle;\n",
       "    }\n",
       "\n",
       "    .dataframe tbody tr th {\n",
       "        vertical-align: top;\n",
       "    }\n",
       "\n",
       "    .dataframe thead th {\n",
       "        text-align: right;\n",
       "    }\n",
       "</style>\n",
       "<table border=\"1\" class=\"dataframe\">\n",
       "  <thead>\n",
       "    <tr style=\"text-align: right;\">\n",
       "      <th></th>\n",
       "      <th>Method</th>\n",
       "      <th>Accuracy</th>\n",
       "      <th>Random State</th>\n",
       "    </tr>\n",
       "  </thead>\n",
       "  <tbody>\n",
       "    <tr>\n",
       "      <th>1</th>\n",
       "      <td>RFE</td>\n",
       "      <td>86.0</td>\n",
       "      <td>583</td>\n",
       "    </tr>\n",
       "    <tr>\n",
       "      <th>3</th>\n",
       "      <td>All features</td>\n",
       "      <td>85.6</td>\n",
       "      <td>583</td>\n",
       "    </tr>\n",
       "    <tr>\n",
       "      <th>0</th>\n",
       "      <td>CORR</td>\n",
       "      <td>83.8</td>\n",
       "      <td>583</td>\n",
       "    </tr>\n",
       "    <tr>\n",
       "      <th>2</th>\n",
       "      <td>SFM</td>\n",
       "      <td>76.0</td>\n",
       "      <td>583</td>\n",
       "    </tr>\n",
       "  </tbody>\n",
       "</table>\n",
       "</div>"
      ],
      "text/plain": [
       "         Method  Accuracy  Random State\n",
       "1           RFE      86.0           583\n",
       "3  All features      85.6           583\n",
       "0          CORR      83.8           583\n",
       "2           SFM      76.0           583"
      ]
     },
     "execution_count": 31,
     "metadata": {
      "tags": []
     },
     "output_type": "execute_result"
    }
   ],
   "source": [
    "ComparisionTable = pd.DataFrame({\"Method\":[\"CORR\", \"RFE\", \"SFM\", \"All features\"], \"Accuracy\":\n",
    "                              [83.8, 86.0, 76.0, 85.6], \"Random State\":[583, 583, 583, 583]})\n",
    "ComparisionTable.sort_values(by=\"Accuracy\", ascending=False)"
   ]
  },
  {
   "cell_type": "markdown",
   "metadata": {
    "colab_type": "text",
    "id": "38VdLM5fac5u"
   },
   "source": [
    "## **ML MODEL CREATION**\n",
    "\n",
    " Rules for Classification (From Sklearn)\n",
    " 1. Data must be complete\n",
    " 2. Data must be strictly numeric\n",
    " 3. Features must be in the form of 2d numpy array\n",
    " 4. Label must be in the form of 1d numpy ar"
   ]
  },
  {
   "cell_type": "markdown",
   "metadata": {
    "colab_type": "text",
    "id": "NF42_d-dnv_U"
   },
   "source": [
    "### **Check the Random seed for which better score is achieved**"
   ]
  },
  {
   "cell_type": "code",
   "execution_count": 0,
   "metadata": {
    "colab": {
     "base_uri": "https://localhost:8080/"
    },
    "colab_type": "code",
    "id": "BK7wbSwTc0Ox",
    "outputId": "5784750d-6bf0-4936-b224-bf40d87126ec"
   },
   "outputs": [
    {
     "name": "stdout",
     "output_type": "stream",
     "text": [
      "Test: 0.8802816901408451 , Train: 0.7522123893805309 , RS : 726\n"
     ]
    }
   ],
   "source": [
    "feature_featureEngg =  features[:,[0,1,5,6,7]]\n",
    "\n",
    "for i in range(1,800):\n",
    "    X_train,X_test,y_train,y_test = train_test_split(feature_featureEngg, label, test_size=0.2, random_state = i)\n",
    "    model1 = LogisticRegression()\n",
    "    model1.fit(X_train,y_train)\n",
    "    \n",
    "    train_score = model1.score(X_train,y_train)\n",
    "    test_score = model1.score(X_test,y_test)\n",
    "    \n",
    "    if (test_score > train_score) & (test_score>0.88):\n",
    "        print(\"Test: {} , Train: {} , RS : {}\".format(test_score,train_score,i))"
   ]
  },
  {
   "cell_type": "markdown",
   "metadata": {
    "colab_type": "text",
    "id": "C05ujmwQz5Sn"
   },
   "source": [
    "### **Split the data into train and test data**\n",
    "\n",
    " 1. Create Train Test Split\n",
    " 2. Build the model\n",
    " 3. Check the Quality of the Model\n",
    " 4. If Satisfied, perform Deployment ; else go to step 2"
   ]
  },
  {
   "cell_type": "code",
   "execution_count": 0,
   "metadata": {
    "colab": {},
    "colab_type": "code",
    "id": "Nh94fPo0qKkF"
   },
   "outputs": [],
   "source": [
    "from sklearn.model_selection import train_test_split\n",
    "# Selecting features from RFE as it gives the good accuracy score - Glucode, Pedigree, BMI, Age, Pregnency\n",
    "\n",
    "feature_featureEngg =  features[:,[0,1,5,6,7]]\n",
    "\n",
    "X_train,X_test,y_train,y_test = train_test_split(feature_featureEngg,\n",
    "                label,\n",
    "                test_size=0.2,\n",
    "                random_state=726)"
   ]
  },
  {
   "cell_type": "code",
   "execution_count": 0,
   "metadata": {
    "colab": {
     "base_uri": "https://localhost:8080/"
    },
    "colab_type": "code",
    "id": "ysbjd6M3zpXI",
    "outputId": "983d9820-872e-4cd4-9413-562d33cca36b"
   },
   "outputs": [
    {
     "data": {
      "text/plain": [
       "((565, 5), (142, 5), (565,), (142,))"
      ]
     },
     "execution_count": 34,
     "metadata": {
      "tags": []
     },
     "output_type": "execute_result"
    }
   ],
   "source": [
    "X_train.shape, X_test.shape, y_train.shape, y_test.shape"
   ]
  },
  {
   "cell_type": "code",
   "execution_count": 0,
   "metadata": {
    "colab": {
     "base_uri": "https://localhost:8080/"
    },
    "colab_type": "code",
    "id": "646c7QTZ0FP2",
    "outputId": "d7f3d554-c756-473d-dc1b-7e03ce6c284d"
   },
   "outputs": [
    {
     "data": {
      "text/plain": [
       "LogisticRegression(C=1.0, class_weight=None, dual=False, fit_intercept=True,\n",
       "                   intercept_scaling=1, l1_ratio=None, max_iter=100,\n",
       "                   multi_class='auto', n_jobs=None, penalty='l2',\n",
       "                   random_state=None, solver='lbfgs', tol=0.0001, verbose=0,\n",
       "                   warm_start=False)"
      ]
     },
     "execution_count": 35,
     "metadata": {
      "tags": []
     },
     "output_type": "execute_result"
    }
   ],
   "source": [
    "classifier = LogisticRegression()\n",
    "classifier.fit(X_train,y_train)"
   ]
  },
  {
   "cell_type": "markdown",
   "metadata": {
    "colab_type": "text",
    "id": "M3gcEcuv0pxd"
   },
   "source": [
    "### **Check the Quality of the Model**\n",
    "\n",
    " 1. Ensure your **test score > train score** (Model must be perform best on UNKNOWN DATA !!!)\n",
    " 2. Ensure your test score >= (1 - SL):  **0.80**"
   ]
  },
  {
   "cell_type": "code",
   "execution_count": 0,
   "metadata": {
    "colab": {
     "base_uri": "https://localhost:8080/",
     "height": 51
    },
    "colab_type": "code",
    "id": "SeIpv3R20j41",
    "outputId": "575c6ef9-919b-47b1-c063-50c97f3633e0"
   },
   "outputs": [
    {
     "name": "stdout",
     "output_type": "stream",
     "text": [
      "Train Score:  0.7522123893805309\n",
      "Test Score:  0.8802816901408451\n"
     ]
    }
   ],
   "source": [
    "print('Train Score: ', classifier.score(X_train,y_train))\n",
    "print('Test Score: ', classifier.score(X_test,y_test))"
   ]
  },
  {
   "cell_type": "markdown",
   "metadata": {
    "colab_type": "text",
    "id": "qHX9Xvj_mVJp"
   },
   "source": [
    "### **Check whether to Accept or Reject the Model**\n",
    "\n",
    "Since the dataset is Unbalanced You need to Check for Non-Tolerable Areas\n",
    " \n",
    " 0 ---> Non Diabetic\n",
    "\n",
    " 1 ---> Diabetic\n",
    "\n",
    "Diabetic 1  ----> Non Diabetic 0(Non-Tolerable)\n",
    "\n",
    "Non Diabetic ----> Diabetic ()\n",
    "\n",
    "**Recall (Diabetic) and Precision of (Non Diabetic)**"
   ]
  },
  {
   "cell_type": "code",
   "execution_count": 0,
   "metadata": {
    "colab": {
     "base_uri": "https://localhost:8080/",
     "height": 51
    },
    "colab_type": "code",
    "id": "74yqa99DiUHf",
    "outputId": "b1cb9f9d-9a3d-4168-ed5d-589a942a9ece"
   },
   "outputs": [
    {
     "data": {
      "text/plain": [
       "array([[419,  52],\n",
       "       [105, 131]])"
      ]
     },
     "execution_count": 37,
     "metadata": {
      "tags": []
     },
     "output_type": "execute_result"
    }
   ],
   "source": [
    "from sklearn.metrics import confusion_matrix\n",
    "\n",
    "confusion_matrix(label,classifier.predict(feature_featureEngg))"
   ]
  },
  {
   "cell_type": "code",
   "execution_count": 0,
   "metadata": {
    "colab": {
     "base_uri": "https://localhost:8080/",
     "height": 170
    },
    "colab_type": "code",
    "id": "S6qSfDGYlzeK",
    "outputId": "42f76fc5-d080-43b5-bcc0-70afd460b95c"
   },
   "outputs": [
    {
     "name": "stdout",
     "output_type": "stream",
     "text": [
      "              precision    recall  f1-score   support\n",
      "\n",
      "           0       0.80      0.89      0.84       471\n",
      "           1       0.72      0.56      0.63       236\n",
      "\n",
      "    accuracy                           0.78       707\n",
      "   macro avg       0.76      0.72      0.73       707\n",
      "weighted avg       0.77      0.78      0.77       707\n",
      "\n"
     ]
    }
   ],
   "source": [
    "from sklearn.metrics import classification_report\n",
    "print(classification_report(label,classifier.predict(feature_featureEngg)))"
   ]
  },
  {
   "cell_type": "markdown",
   "metadata": {
    "colab_type": "text",
    "id": "mk_64MBDnXA4"
   },
   "source": [
    "Average of Recall (Diabetic) and Precision (Non Diabetic) is **68.0**. \n",
    "\n",
    "The Model is **rejected** for** SL 0.2** as well as **SL 0.05**"
   ]
  }
 ],
 "metadata": {
  "colab": {
   "collapsed_sections": [
    "sGUc8bIEQ4hI",
    "TRm6EBUDSok-",
    "S1E2qOMsK8eY",
    "wQfHr1qYLF3E",
    "Pk-AiyYmPGF1",
    "qSku2XxY2NhE",
    "8q7hT6Rm2ZbS",
    "SaPgzOk7Gn9V",
    "dZuJH-94WPFl",
    "C0OVRebNaMFL",
    "NF42_d-dnv_U",
    "C05ujmwQz5Sn"
   ],
   "name": "Classification_Assihnment4.ipynb",
   "provenance": [],
   "toc_visible": true
  },
  "kernelspec": {
   "display_name": "Python 3",
   "language": "python",
   "name": "python3"
  },
  "language_info": {
   "codemirror_mode": {
    "name": "ipython",
    "version": 3
   },
   "file_extension": ".py",
   "mimetype": "text/x-python",
   "name": "python",
   "nbconvert_exporter": "python",
   "pygments_lexer": "ipython3",
   "version": "3.7.6"
  }
 },
 "nbformat": 4,
 "nbformat_minor": 1
}
